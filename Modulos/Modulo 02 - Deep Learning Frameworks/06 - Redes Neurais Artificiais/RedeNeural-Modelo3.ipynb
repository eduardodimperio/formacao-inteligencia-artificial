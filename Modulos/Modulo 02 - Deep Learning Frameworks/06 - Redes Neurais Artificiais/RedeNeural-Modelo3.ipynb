{
 "metadata": {
  "language_info": {
   "codemirror_mode": {
    "name": "ipython",
    "version": 3
   },
   "file_extension": ".py",
   "mimetype": "text/x-python",
   "name": "python",
   "nbconvert_exporter": "python",
   "pygments_lexer": "ipython3",
   "version": "3.7.10"
  },
  "orig_nbformat": 4,
  "kernelspec": {
   "name": "python3",
   "display_name": "Python 3.7.10 64-bit ('IA': conda)"
  },
  "interpreter": {
   "hash": "cd33b1ad81c559069350aab209dba1ac81a1a78823a0538f4b422d164d6af523"
  }
 },
 "nbformat": 4,
 "nbformat_minor": 2,
 "cells": [
  {
   "source": [
    "# Redes Neurais - Multilayer Perceptron "
   ],
   "cell_type": "markdown",
   "metadata": {}
  },
  {
   "cell_type": "code",
   "execution_count": 1,
   "metadata": {},
   "outputs": [],
   "source": [
    "# Imports\n",
    "import numpy as np\n",
    "import tensorflow as tf\n",
    "import os\n",
    "os.environ['TF_CPP_MIN_LOG_LEVEL'] = '3'"
   ]
  },
  {
   "cell_type": "code",
   "execution_count": 2,
   "metadata": {},
   "outputs": [],
   "source": [
    "# Gerando dados sintéticos\n",
    "\n",
    "# Hiperparâmetros\n",
    "size = 200000\n",
    "num_epochs = 20\n",
    "learning_rate = 0.0001\n",
    "n_batches = 10000\n",
    "batch_size = 100"
   ]
  },
  {
   "cell_type": "code",
   "execution_count": 3,
   "metadata": {},
   "outputs": [],
   "source": [
    "# Gerando dados para x\n",
    "# https://docs.scipy.org/doc/numpy-1.15.1/reference/generated/numpy.random.randint.html\n",
    "# https://docs.scipy.org/doc/numpy/reference/generated/numpy.dstack.html\n",
    "x1 = np.random.randint(0, 100, size)\n",
    "x2 = np.random.randint(0, 100, size)\n",
    "x_treino = np.dstack((x1, x2))[0]\n",
    "\n",
    "# Gerando dados para y\n",
    "y_treino = 3*(x1**(1/2)) + 2*(x2**2)"
   ]
  },
  {
   "cell_type": "code",
   "execution_count": 4,
   "metadata": {},
   "outputs": [
    {
     "output_type": "stream",
     "name": "stdout",
     "text": [
      "\nValores e shape de x:\n[[63  5]\n [59 36]\n [ 6  3]\n ...\n [14 80]\n [45 59]\n [37  1]]\n(200000, 2)\n\nValores e shape de y:\n[   73.8117618   2615.04343724    25.34846923 ... 12811.22497216\n  6982.1246118     20.24828759]\n(200000,)\n"
     ]
    }
   ],
   "source": [
    "# Print\n",
    "print(\"\\nValores e shape de x:\")\n",
    "print(x_treino)\n",
    "print(x_treino.shape)\n",
    "print(\"\\nValores e shape de y:\")\n",
    "print(y_treino)\n",
    "print(y_treino.shape)"
   ]
  },
  {
   "cell_type": "code",
   "execution_count": 5,
   "metadata": {},
   "outputs": [],
   "source": [
    "# Método 3 para construir modelos MPL com TF2\n",
    "# Ideal quando o volume de dados for muito grande\n",
    "\n",
    "# tf.keras.Sequential sem fit() mas usando tf.GradientTape()\n",
    "modelo_v3 = tf.keras.Sequential()\n",
    "modelo_v3.add(tf.keras.layers.Dense(64, input_shape = (2,) , activation = 'sigmoid'))\n",
    "modelo_v3.add(tf.keras.layers.Dense(128, activation = 'relu'))\n",
    "modelo_v3.add(tf.keras.layers.Dense(128, activation = 'relu'))\n",
    "modelo_v3.add(tf.keras.layers.Dense(2))"
   ]
  },
  {
   "cell_type": "code",
   "execution_count": 6,
   "metadata": {},
   "outputs": [],
   "source": [
    "# Cria o otimizador\n",
    "optimizer = tf.keras.optimizers.Adam(learning_rate)\n",
    "\n",
    "# Cria a função de custo\n",
    "mse = tf.keras.losses.MSE\n",
    "\n",
    "# Compila o modelo\n",
    "modelo_v3.compile(optimizer, mse)"
   ]
  },
  {
   "cell_type": "code",
   "execution_count": 7,
   "metadata": {},
   "outputs": [],
   "source": [
    "# Preparando batches de dados de treino\n",
    "dataset_treino = tf.data.Dataset.from_tensor_slices((x_treino, y_treino))\n",
    "dataset_treino = dataset_treino.repeat().shuffle(x_treino.shape[0]).batch(batch_size)"
   ]
  },
  {
   "cell_type": "code",
   "execution_count": 8,
   "metadata": {},
   "outputs": [
    {
     "output_type": "stream",
     "name": "stdout",
     "text": [
      "\n",
      "Iniciando o Treinamento do Modelo. Por favor aguarde!\n",
      "\n",
      "Taxa de Erro Final em Treino:  31121072.0\n"
     ]
    }
   ],
   "source": [
    "\n",
    "print (\"\\nIniciando o Treinamento do Modelo. Por favor aguarde!\")\n",
    "\n",
    "# Loop pelo batches de dados\n",
    "for i, (batch_xs_treino, batch_ys_treino) in enumerate(dataset_treino.take(n_batches), 1):\n",
    "\n",
    "    # Calcula previsões e taxa de erro\n",
    "    with tf.GradientTape() as tape:\n",
    "\n",
    "        # Previsão do modelo\n",
    "        y_pred = modelo_v3(batch_xs_treino)\n",
    "\n",
    "        # Erro do modelo\n",
    "        loss = mse(batch_ys_treino[0], y_pred[0])\n",
    "\n",
    "        # Calcula os gradientes\n",
    "        grads = tape.gradient(loss, modelo_v3.trainable_variables) \n",
    "        \n",
    "        # Separa os gradientes de forma única\n",
    "        processed_grads = [g for g in grads]\n",
    "        \n",
    "        # Obtém gradientes e pesos\n",
    "        grads_and_vars = zip(processed_grads, modelo_v3.trainable_variables)\n",
    "\n",
    "    # Otimiza os pesos com o valor do gradiente\n",
    "    optimizer.apply_gradients(grads_and_vars)\n",
    "\n",
    "\n",
    "print ('\\nTaxa de Erro Final em Treino: ', np.mean(loss.numpy()))"
   ]
  },
  {
   "cell_type": "code",
   "execution_count": null,
   "metadata": {},
   "outputs": [],
   "source": [
    "# Sumário do modelo\n",
    "print(\"\\nSumário do modelo:\")\n",
    "modelo_v3.summary()"
   ]
  },
  {
   "cell_type": "code",
   "execution_count": null,
   "metadata": {},
   "outputs": [],
   "source": [
    "# Testando o Modelo\n",
    "\n",
    "# Gerando novos dados para x\n",
    "x1 = np.array([100, 9, 62, 79, 94, 91, 71, 41])\n",
    "x2 = np.array([65, 39, 40, 44, 77, 42, 36, 74])\n",
    "x_teste = np.dstack((x1, x2))[0]\n",
    "\n",
    "# Gerando novos dados para y\n",
    "y_teste = 3*(x1**(1/2)) + 2*(x2**2)\n",
    "\n",
    "# Preparando os dados de teste\n",
    "dataset_teste = tf.data.Dataset.from_tensor_slices((x_teste, y_teste))\n",
    "dataset_teste = dataset_teste.repeat().shuffle(x_teste.shape[0]).batch(batch_size)\n",
    "\n",
    "print (\"\\nIniciando a Avaliação com Dados de Teste. Por favor aguarde!\")\n",
    "\n",
    "for i, (batch_xs_teste, batch_ys_teste) in enumerate(dataset_teste.take(n_batches), 1):\n",
    "    with tf.GradientTape() as tape:\n",
    "        y_pred = modelo_v3(batch_xs_teste)\n",
    "        loss = mse(batch_ys_teste[0], y_pred)\n",
    "    \n",
    "print ('\\nTaxa de Erro Final em Teste: ', np.mean(loss.numpy()))\n",
    "\n",
    "# Fazendo previsões\n",
    "print(\"\\nFazendo Previsões com o Modelo...\")\n",
    "y_pred = modelo_v3.predict(x_teste)\n",
    "\n",
    "print(\"\\n\")\n",
    "\n",
    "for i in range(5):\n",
    "    print ('''Entrada(x): ({}, {}), Saida(y): ({:.0f}), Previsão do Modelo(y_pred): ({:.0f})'''.format(x1[i], x2[i], y_teste[i], y_pred[i][0]))\n",
    "\n",
    "print(\"\\n\")"
   ]
  },
  {
   "cell_type": "code",
   "execution_count": null,
   "metadata": {},
   "outputs": [],
   "source": [
    "# Salvando o modelo\n",
    "modelo_v3.save('modelo_v3.h5')\n",
    "\n",
    "# Carregando o modelo salvo\n",
    "novo_modelo_v3 = tf.keras.models.load_model('modelo_v3.h5')"
   ]
  }
 ]
}