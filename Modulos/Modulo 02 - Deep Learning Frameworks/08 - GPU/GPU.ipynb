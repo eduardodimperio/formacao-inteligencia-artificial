{
 "cells": [
  {
   "cell_type": "code",
   "execution_count": 1,
   "source": [
    "import numpy as np\r\n",
    "import tensorflow as tf"
   ],
   "outputs": [],
   "metadata": {}
  },
  {
   "cell_type": "code",
   "execution_count": 10,
   "source": [
    "import os\r\n",
    "os.environ['TF_CPP_MIN_LOG_LEVEL'] = '3'"
   ],
   "outputs": [],
   "metadata": {}
  },
  {
   "cell_type": "code",
   "execution_count": 2,
   "source": [
    "tf.config.list_physical_devices('GPU')"
   ],
   "outputs": [
    {
     "output_type": "execute_result",
     "data": {
      "text/plain": [
       "[PhysicalDevice(name='/physical_device:GPU:0', device_type='GPU')]"
      ]
     },
     "metadata": {},
     "execution_count": 2
    }
   ],
   "metadata": {}
  },
  {
   "cell_type": "code",
   "execution_count": 3,
   "source": [
    "n = 10\r\n",
    "\r\n",
    "A = np.random.rand(10000, 10000).astype('float32')\r\n",
    "B = np.random.rand(10000, 10000).astype('float32')"
   ],
   "outputs": [],
   "metadata": {}
  },
  {
   "cell_type": "code",
   "execution_count": 4,
   "source": [
    "c1 = []\r\n",
    "\r\n",
    "def matpow(M, n):\r\n",
    "    if n < 1: \r\n",
    "        return M\r\n",
    "    else:\r\n",
    "        return tf.matmul(M, matpow(M, n-1))"
   ],
   "outputs": [],
   "metadata": {}
  },
  {
   "cell_type": "code",
   "execution_count": 5,
   "source": [
    "with tf.device('/gpu:0'): # Para executar na CPU, use /cpu:0\r\n",
    "    a = tf.constant(A)\r\n",
    "    b = tf.constant(B)\r\n",
    "    c1.append(matpow(a, n))\r\n",
    "    c1.append(matpow(b, n))"
   ],
   "outputs": [],
   "metadata": {}
  },
  {
   "cell_type": "code",
   "execution_count": 6,
   "source": [
    "with tf.device('/cpu:0'): # Para executar na CPU, use /cpu:0\r\n",
    "    a = tf.constant(A)\r\n",
    "    b = tf.constant(B)\r\n",
    "    c1.append(matpow(a, n))\r\n",
    "    c1.append(matpow(b, n))"
   ],
   "outputs": [],
   "metadata": {}
  },
  {
   "cell_type": "code",
   "execution_count": 11,
   "source": [
    "# Input\r\n",
    "input_value = tf.constant(0.5, name=\"input_value\")\r\n",
    "\r\n",
    "# Peso\r\n",
    "weight = tf.Variable(1.0, name=\"weight\")\r\n",
    "\r\n",
    "# Output esperado (usado no treinamento)\r\n",
    "expected_output = tf.constant(0.0, name=\"expected_output\")\r\n",
    "\r\n",
    "with tf.GradientTape() as tape:\r\n",
    "    # Criação do modelo\r\n",
    "    model = tf.multiply(input_value, weight, \"model\")\r\n",
    "\r\n",
    "    # Cost Function\r\n",
    "    loss_function = tf.pow(model - expected_output, 2, name=\"loss_function\")\r\n",
    "gradient = tape.gradient(loss_function, [weight])\r\n",
    "\r\n",
    "# Otimizador\r\n",
    "optimizer = tf.optimizers.SGD(learning_rate=0.01)\r\n",
    "optimizer.apply_gradients(zip(gradient, [weight]))"
   ],
   "outputs": [
    {
     "output_type": "execute_result",
     "data": {
      "text/plain": [
       "<tf.Variable 'UnreadVariable' shape=() dtype=int64, numpy=1>"
      ]
     },
     "metadata": {},
     "execution_count": 11
    }
   ],
   "metadata": {}
  },
  {
   "cell_type": "code",
   "execution_count": 13,
   "source": [
    "writer = tf.summary.create_file_writer(\"./summary\")\r\n",
    "with writer.as_default():\r\n",
    "    for i, value in enumerate([input_value, weight, expected_output, model, loss_function]):\r\n",
    "        tf.summary.scalar(f'Tensor: {i}', value, step=i)\r\n",
    "        writer.flush()    \r\n",
    "        "
   ],
   "outputs": [],
   "metadata": {}
  },
  {
   "cell_type": "code",
   "execution_count": null,
   "source": [],
   "outputs": [],
   "metadata": {}
  }
 ],
 "metadata": {
  "orig_nbformat": 4,
  "language_info": {
   "name": "python",
   "version": "3.8.8",
   "mimetype": "text/x-python",
   "codemirror_mode": {
    "name": "ipython",
    "version": 3
   },
   "pygments_lexer": "ipython3",
   "nbconvert_exporter": "python",
   "file_extension": ".py"
  },
  "kernelspec": {
   "name": "python3",
   "display_name": "Python 3.8.8 64-bit ('base': conda)"
  },
  "interpreter": {
   "hash": "2757f2c2fa6babad547f4a3642c7cf29f9f98149abb7990afbb40d637e41adc8"
  }
 },
 "nbformat": 4,
 "nbformat_minor": 2
}